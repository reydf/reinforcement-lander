{
  "cells": [
    {
      "cell_type": "markdown",
      "metadata": {
        "id": "view-in-github",
        "colab_type": "text"
      },
      "source": [
        "<a href=\"https://colab.research.google.com/github/reydf/reinforcement-lander/blob/main/RL_Study_DuelingDQN.ipynb\" target=\"_parent\"><img src=\"https://colab.research.google.com/assets/colab-badge.svg\" alt=\"Open In Colab\"/></a>"
      ]
    },
    {
      "cell_type": "code",
      "source": [
        "!python -m pip install gym[box2d]\n",
        "!python -m pip install pygame"
      ],
      "metadata": {
        "colab": {
          "base_uri": "https://localhost:8080/"
        },
        "id": "asy2GC592bwp",
        "outputId": "1bdbf359-205f-4274-df5f-baf0d0bac9a0"
      },
      "execution_count": 1,
      "outputs": [
        {
          "output_type": "stream",
          "name": "stdout",
          "text": [
            "Looking in indexes: https://pypi.org/simple, https://us-python.pkg.dev/colab-wheels/public/simple/\n",
            "Requirement already satisfied: gym[box2d] in /usr/local/lib/python3.8/dist-packages (0.25.2)\n",
            "Requirement already satisfied: cloudpickle>=1.2.0 in /usr/local/lib/python3.8/dist-packages (from gym[box2d]) (1.5.0)\n",
            "Requirement already satisfied: gym-notices>=0.0.4 in /usr/local/lib/python3.8/dist-packages (from gym[box2d]) (0.0.8)\n",
            "Requirement already satisfied: numpy>=1.18.0 in /usr/local/lib/python3.8/dist-packages (from gym[box2d]) (1.21.6)\n",
            "Requirement already satisfied: importlib-metadata>=4.8.0 in /usr/local/lib/python3.8/dist-packages (from gym[box2d]) (5.2.0)\n",
            "Collecting pygame==2.1.0\n",
            "  Downloading pygame-2.1.0-cp38-cp38-manylinux_2_17_x86_64.manylinux2014_x86_64.whl (18.3 MB)\n",
            "\u001b[2K     \u001b[90m━━━━━━━━━━━━━━━━━━━━━━━━━━━━━━━━━━━━━━━━\u001b[0m \u001b[32m18.3/18.3 MB\u001b[0m \u001b[31m71.6 MB/s\u001b[0m eta \u001b[36m0:00:00\u001b[0m\n",
            "\u001b[?25hCollecting box2d-py==2.3.5\n",
            "  Downloading box2d-py-2.3.5.tar.gz (374 kB)\n",
            "\u001b[2K     \u001b[90m━━━━━━━━━━━━━━━━━━━━━━━━━━━━━━━━━━━━━━\u001b[0m \u001b[32m374.4/374.4 KB\u001b[0m \u001b[31m36.8 MB/s\u001b[0m eta \u001b[36m0:00:00\u001b[0m\n",
            "\u001b[?25h  Preparing metadata (setup.py) ... \u001b[?25l\u001b[?25hdone\n",
            "Collecting swig==4.*\n",
            "  Downloading swig-4.1.1-py2.py3-none-manylinux_2_5_x86_64.manylinux1_x86_64.whl (1.8 MB)\n",
            "\u001b[2K     \u001b[90m━━━━━━━━━━━━━━━━━━━━━━━━━━━━━━━━━━━━━━━━\u001b[0m \u001b[32m1.8/1.8 MB\u001b[0m \u001b[31m78.0 MB/s\u001b[0m eta \u001b[36m0:00:00\u001b[0m\n",
            "\u001b[?25hRequirement already satisfied: zipp>=0.5 in /usr/local/lib/python3.8/dist-packages (from importlib-metadata>=4.8.0->gym[box2d]) (3.11.0)\n",
            "Building wheels for collected packages: box2d-py\n",
            "  \u001b[1;31merror\u001b[0m: \u001b[1msubprocess-exited-with-error\u001b[0m\n",
            "  \n",
            "  \u001b[31m×\u001b[0m \u001b[32mpython setup.py bdist_wheel\u001b[0m did not run successfully.\n",
            "  \u001b[31m│\u001b[0m exit code: \u001b[1;36m1\u001b[0m\n",
            "  \u001b[31m╰─>\u001b[0m See above for output.\n",
            "  \n",
            "  \u001b[1;35mnote\u001b[0m: This error originates from a subprocess, and is likely not a problem with pip.\n",
            "  Building wheel for box2d-py (setup.py) ... \u001b[?25lerror\n",
            "\u001b[31m  ERROR: Failed building wheel for box2d-py\u001b[0m\u001b[31m\n",
            "\u001b[0m\u001b[?25h  Running setup.py clean for box2d-py\n",
            "Failed to build box2d-py\n",
            "Installing collected packages: swig, box2d-py, pygame\n",
            "  Running setup.py install for box2d-py ... \u001b[?25l\u001b[?25hdone\n",
            "\u001b[33m  DEPRECATION: box2d-py was installed using the legacy 'setup.py install' method, because a wheel could not be built for it. A possible replacement is to fix the wheel build issue reported above. Discussion can be found at https://github.com/pypa/pip/issues/8368\u001b[0m\u001b[33m\n",
            "\u001b[0mSuccessfully installed box2d-py-2.3.5 pygame-2.1.0 swig-4.1.1\n",
            "Looking in indexes: https://pypi.org/simple, https://us-python.pkg.dev/colab-wheels/public/simple/\n",
            "Requirement already satisfied: pygame in /usr/local/lib/python3.8/dist-packages (2.1.0)\n"
          ]
        }
      ]
    },
    {
      "cell_type": "code",
      "execution_count": 2,
      "metadata": {
        "id": "8lcFdWk8yJ9S"
      },
      "outputs": [],
      "source": [
        "\"\"\"\n",
        "Implementation of vanilla DQN using OpenAI LunarLander\n",
        "\"\"\"\n",
        "import gym\n",
        "import math\n",
        "import random\n",
        "import numpy as np\n",
        "import matplotlib\n",
        "import matplotlib.pyplot as plt\n",
        "from collections import namedtuple, deque\n",
        "from itertools import count\n",
        "\n",
        "import torch\n",
        "import torch.nn as nn\n",
        "import torch.optim as optim\n",
        "import torch.nn.functional as F\n",
        "\n",
        "is_ipython = 'inline' in matplotlib.get_backend()\n",
        "if is_ipython:\n",
        "    from IPython import display\n"
      ]
    },
    {
      "cell_type": "code",
      "source": [
        "import os\n",
        "os.environ['SDL_VIDEODRIVER']='dummy'\n",
        "import pygame\n",
        "pygame.display.set_mode((640,480))"
      ],
      "metadata": {
        "colab": {
          "base_uri": "https://localhost:8080/"
        },
        "id": "DDscxeNX3g7j",
        "outputId": "40f40db3-83b4-487b-9dc4-b1df62ec1029"
      },
      "execution_count": 4,
      "outputs": [
        {
          "output_type": "execute_result",
          "data": {
            "text/plain": [
              "<Surface(640x480x32 SW)>"
            ]
          },
          "metadata": {},
          "execution_count": 4
        }
      ]
    },
    {
      "cell_type": "code",
      "execution_count": 5,
      "metadata": {
        "colab": {
          "base_uri": "https://localhost:8080/"
        },
        "id": "yFomDnRkyJ9V",
        "outputId": "8969f0f2-6391-43a1-a00b-3b12b708fbd7"
      },
      "outputs": [
        {
          "output_type": "stream",
          "name": "stderr",
          "text": [
            "/usr/local/lib/python3.8/dist-packages/gym/core.py:317: DeprecationWarning: \u001b[33mWARN: Initializing wrapper in old step API which returns one bool instead of two. It is recommended to set `new_step_api=True` to use new step API. This will be the default behaviour in future.\u001b[0m\n",
            "  deprecation(\n",
            "/usr/local/lib/python3.8/dist-packages/gym/wrappers/step_api_compatibility.py:39: DeprecationWarning: \u001b[33mWARN: Initializing environment in old step API which returns one bool instead of two. It is recommended to set `new_step_api=True` to use new step API. This will be the default behaviour in future.\u001b[0m\n",
            "  deprecation(\n"
          ]
        },
        {
          "output_type": "stream",
          "name": "stdout",
          "text": [
            "State shape:  8\n",
            "Number of actions:  4\n"
          ]
        }
      ],
      "source": [
        "#Calling the environment. \n",
        "env = gym.make('LunarLander-v2', render_mode='human', enable_wind = True)\n",
        "\n",
        "#Check out the state space\n",
        "n_obs = len(env.reset())\n",
        "n_act = env.action_space.n\n",
        "print('State shape: ', n_obs)#env.observation_space.shape)\n",
        "print('Number of actions: ', n_act )\n",
        "\n",
        "# By default, we use CPU. If CUDA is available, this command will automatically call it.\n",
        "device = torch.device(\"cuda\" if torch.cuda.is_available() else \"cpu\")"
      ]
    },
    {
      "cell_type": "code",
      "execution_count": 6,
      "metadata": {
        "id": "k3BCf0z_yJ9Y"
      },
      "outputs": [],
      "source": [
        "#Neural Network module to be used for the agent.\n",
        "class Nets(nn.Module):\n",
        "    \n",
        "    def __init__(self, n_observations, n_actions):\n",
        "        super(Nets, self).__init__()\n",
        "        self.layer1 = nn.Linear(n_observations, 128)\n",
        "        self.layer2 = nn.Linear(128, 128)\n",
        "        self.A = nn.Linear(128, 1)\n",
        "        self.B = nn.Linear(128, n_actions)\n",
        "        #self.layer3 = nn.Linear(128, n_actions)\n",
        "\n",
        "    # There are four states, so there are four layers.\n",
        "    def forward(self, x):\n",
        "        x = F.relu(self.layer1(x))\n",
        "        x = F.relu(self.layer2(x))\n",
        "        A = self.A(x)\n",
        "        B = self.B(x)\n",
        "        ave_B = torch.mean(B, dim = 1, keepdim = True)\n",
        "        Q = (A + (B - ave_B))\n",
        "        return Q"
      ]
    },
    {
      "cell_type": "code",
      "execution_count": 7,
      "metadata": {
        "id": "33AYlTh3yJ9Z"
      },
      "outputs": [],
      "source": [
        "#Transition function, for the state, action, next state, and reward.\n",
        "Transition = namedtuple('Transition',\n",
        "                        ('state', 'action', 'next_state', 'reward'))\n",
        "\n",
        "class ReplayBuffer(object):\n",
        "\n",
        "    def __init__(self, capacity):\n",
        "        self.memory = deque([],maxlen=capacity)\n",
        "    def push(self, *args):\n",
        "        #Saving a transition\n",
        "        self.memory.append(Transition(*args))\n",
        "    def sample(self, batch_size):\n",
        "        return random.sample(self.memory, batch_size)\n",
        "    def __len__(self):\n",
        "        return len(self.memory)"
      ]
    },
    {
      "cell_type": "code",
      "source": [
        "gym.__version__[:4] == '0.26'"
      ],
      "metadata": {
        "colab": {
          "base_uri": "https://localhost:8080/"
        },
        "id": "dBOkqw55AfX4",
        "outputId": "5cb554ce-c833-4e2f-b2e9-be3fb2212fe1"
      },
      "execution_count": 8,
      "outputs": [
        {
          "output_type": "execute_result",
          "data": {
            "text/plain": [
              "False"
            ]
          },
          "metadata": {},
          "execution_count": 8
        }
      ]
    },
    {
      "cell_type": "code",
      "execution_count": 9,
      "metadata": {
        "id": "l9prX7yJyJ9b"
      },
      "outputs": [],
      "source": [
        "#Defining the Agent\n",
        "class Agent:\n",
        "    \n",
        "    def __init__(self, learn_rate, gamma, n_act, epsilon, batch):\n",
        "        #self.action_space = [i for i in range(n_act)]\n",
        "        self.gamma = gamma #Discount rate\n",
        "        self.epsilon = epsilon #episode starts\n",
        "        self.batch_size = batch #Number of transitions sampled inside the replay buffer\n",
        "        self.epsilon_decay = 1000 #Episode decay rate\n",
        "        self.epsilon_final = 0.05 #Episode final rate\n",
        "        self.update_rate = 0.005\n",
        "        self.act = n_act\n",
        "        self.step_counter = 0\n",
        "        self.learn_rate = learn_rate\n",
        "        state,_ = env.reset(return_info=True)\n",
        "        no_obs = len(state)\n",
        "        self.policy_net = Nets(no_obs, self.act).to(device)\n",
        "        self.target_net = Nets(no_obs, self.act).to(device)\n",
        "        self.target_net.load_state_dict(self.policy_net.state_dict())\n",
        "        \n",
        "    memory = ReplayBuffer(10000)   \n",
        "    steps_done = 0\n",
        "    def select_policy(self, state):\n",
        "        #global steps_done\n",
        "        sample = random.random()\n",
        "        eps_threshold = self.epsilon_final + (self.epsilon - self.epsilon_final) * \\\n",
        "            math.exp(-1. * self.step_counter / self.epsilon_decay)\n",
        "        self.step_counter  += 1\n",
        "        if sample > eps_threshold:\n",
        "            with torch.no_grad():\n",
        "            # t.max(1) will return largest column value of each row, to pick the policy with larger expected reward.\n",
        "                 return self.policy_net(state).max(1)[1].view(1, 1)\n",
        "        else:\n",
        "            return torch.tensor([[env.action_space.sample()]], device=device, dtype=torch.long)\n",
        "\n",
        "    def optimize_model(self):\n",
        "        \n",
        "        optimizer = optim.AdamW(self.policy_net.parameters(), lr=self.learn_rate, amsgrad=True)\n",
        "    \n",
        "        \n",
        "        if len(self.memory) < self.batch_size:\n",
        "            return\n",
        "        transitions = self.memory.sample(self.batch_size)\n",
        "    # Transpose the batch (see https://stackoverflow.com/a/19343/3343043 for\n",
        "    # detailed explanation). This converts batch-array of Transitions\n",
        "    # to Transition of batch-arrays.\n",
        "        batch = Transition(*zip(*transitions))\n",
        "\n",
        "    # Compute a mask of non-final states and concatenate the batch elements\n",
        "    # (a final state would've been the one after which simulation ended)\n",
        "        non_final_mask = torch.tensor(tuple(map(lambda s: s is not None,\n",
        "                                          batch.next_state)), device=device, dtype=torch.bool)\n",
        "        non_final_next_states = torch.cat([s for s in batch.next_state\n",
        "                                                            if s is not None])\n",
        "        state_batch = torch.cat(batch.state)\n",
        "        action_batch = torch.cat(batch.action)\n",
        "        reward_batch = torch.cat(batch.reward)\n",
        "\n",
        "    # Compute Q(s_t, a) - the model computes Q(s_t), then we select the\n",
        "    # columns of actions taken. These are the actions which would've been taken\n",
        "    # for each batch state according to policy_net\n",
        "        state_action_values = self.policy_net(state_batch).gather(1, action_batch)\n",
        "\n",
        "    # Compute V(s_{t+1}) for all next states.\n",
        "    # Expected values of actions for non_final_next_states are computed based\n",
        "    # on the \"older\" target_net; selecting their best reward with max(1)[0].\n",
        "    # This is merged based on the mask, such that we'll have either the expected\n",
        "    # state value or 0 in case the state was final.\n",
        "        next_state_values = torch.zeros(self.batch_size, device=device)\n",
        "        with torch.no_grad():\n",
        "            next_state_values[non_final_mask] = self.target_net(non_final_next_states).max(1)[0]\n",
        "    # Compute the expected Q values\n",
        "        expected_state_action_values = (next_state_values * self.gamma) + reward_batch\n",
        "\n",
        "    # Compute Huber loss\n",
        "        criterion = nn.SmoothL1Loss()\n",
        "        loss = criterion(state_action_values, expected_state_action_values.unsqueeze(1))\n",
        "\n",
        "    # Optimize the model\n",
        "        optimizer.zero_grad()\n",
        "        loss.backward()\n",
        "    # In-place gradient clipping\n",
        "        torch.nn.utils.clip_grad_value_(self.policy_net.parameters(), 100)\n",
        "        optimizer.step()\n",
        "    \n",
        "    episode_durations = []\n",
        "    def plot_durations(self, show_result=False):\n",
        "        \n",
        "        #Showing the real-time plotting of the training.\n",
        "        plt.figure(1)\n",
        "        durations_t = torch.tensor(self.episode_durations, dtype=torch.float)\n",
        "        if show_result:\n",
        "            env.close()\n",
        "            plt.title('Result')\n",
        "            plt.savefig('LunarLander_Test.png')\n",
        "        else:\n",
        "            plt.clf()\n",
        "            plt.title('Training...')\n",
        "            plt.xlabel('Episode')\n",
        "        plt.ylabel('Duration')\n",
        "        plt.plot(durations_t.numpy())\n",
        "    # Take 100 episode averages and plot them too\n",
        "        if len(durations_t) >= 100:\n",
        "            means = durations_t.unfold(0, 100, 1).mean(1).view(-1)\n",
        "            means = torch.cat((torch.zeros(99), means))\n",
        "            plt.plot(means.numpy())\n",
        "\n",
        "        plt.pause(0.001)  # pause a bit so that plots are updated\n",
        "        if is_ipython:\n",
        "            if not show_result:\n",
        "                display.display(plt.gcf())\n",
        "                display.clear_output(wait=True)\n",
        "        else:\n",
        "            display.display(plt.gcf())\n",
        "    \n",
        "    def train (self):\n",
        "        if torch.cuda.is_available():\n",
        "            num_episodes = 600\n",
        "        else:\n",
        "            num_episodes = 150\n",
        "        #memory = ReplayBuffer(10000)\n",
        "        for i_episode in range(num_episodes):\n",
        "            state,_ = env.reset(return_info=True)\n",
        "            state = torch.tensor(state, dtype=torch.float32, device=device).unsqueeze(0)\n",
        "            #env.render()\n",
        "            \n",
        "            for t in count():\n",
        "                action = self.select_policy(state)\n",
        "                observation, reward, terminated, truncated= env.step(action.item())\n",
        "                reward = torch.tensor([reward], device=device)\n",
        "                done = terminated or truncated\n",
        "                \n",
        "                if terminated:\n",
        "                    next_state = None\n",
        "                else:\n",
        "                    next_state = torch.tensor(observation, dtype=torch.float32, device=device).unsqueeze(0)\n",
        "                    \n",
        "                # Store the transition in memory\n",
        "                self.memory.push(state, action, next_state, reward)\n",
        "                \n",
        "                # Move to the next state\n",
        "                state = next_state\n",
        "                #optimize your model\n",
        "                self.optimize_model()\n",
        "                \n",
        "                target_net_state_dict = self.target_net.state_dict()\n",
        "                policy_net_state_dict = self.policy_net.state_dict()\n",
        "                for key in policy_net_state_dict:\n",
        "                    target_net_state_dict[key] = policy_net_state_dict[key]*self.update_rate + target_net_state_dict[key]*(1-self.update_rate)\n",
        "                    self.target_net.load_state_dict(target_net_state_dict)\n",
        "                    \n",
        "                if done:\n",
        "                    self.episode_durations.append(t + 1)\n",
        "                    self.plot_durations()\n",
        "                    break\n",
        "                \n",
        "        print('Complete')\n",
        "        self.plot_durations(show_result=True)\n",
        "        plt.ioff()\n",
        "        plt.show()\n"
      ]
    },
    {
      "cell_type": "code",
      "execution_count": 10,
      "metadata": {
        "id": "_hpGs7DxyJ9f"
      },
      "outputs": [],
      "source": [
        "#Define the needed hyperparameters for training.\n",
        "batch = 128 #Number of transitions sampled inside the replay buffer\n",
        "gamma = 0.99 #Discount rate\n",
        "start_eps = 0.9 #Epsilon starting value\n",
        "learn_rate = 1e-4 #Learning rate of the neural net\n",
        "\n",
        "#(self, learn_rate, gamma, n_act, epsilon, batch)\n",
        "\n"
      ]
    },
    {
      "cell_type": "code",
      "source": [
        "agent_dqn = Agent(learn_rate, gamma, n_act, start_eps, batch)"
      ],
      "metadata": {
        "id": "FFjQsjw66vr_"
      },
      "execution_count": 11,
      "outputs": []
    },
    {
      "cell_type": "markdown",
      "source": [
        ":agent_dqn = Agent(learn_rate, gamma, n_act, start_eps, batch)"
      ],
      "metadata": {
        "id": "5D9miN_Q5IH5"
      }
    },
    {
      "cell_type": "code",
      "execution_count": 12,
      "metadata": {
        "colab": {
          "base_uri": "https://localhost:8080/",
          "height": 298
        },
        "id": "uS8aOMwNyJ9f",
        "outputId": "15863fcd-7796-4d0f-c24f-ff21629d090a"
      },
      "outputs": [
        {
          "output_type": "stream",
          "name": "stdout",
          "text": [
            "Complete\n"
          ]
        },
        {
          "output_type": "display_data",
          "data": {
            "text/plain": [
              "<Figure size 432x288 with 1 Axes>"
            ],
            "image/png": "[encoded data removed]"
          },
          "metadata": {
            "needs_background": "light"
          }
        }
      ],
      "source": [
        "agent_dqn.train()"
      ]
    }
  ],
  "metadata": {
    "kernelspec": {
      "display_name": "base",
      "language": "python",
      "name": "python3"
    },
    "language_info": {
      "codemirror_mode": {
        "name": "ipython",
        "version": 3
      },
      "file_extension": ".py",
      "mimetype": "text/x-python",
      "name": "python",
      "nbconvert_exporter": "python",
      "pygments_lexer": "ipython3",
      "version": "3.8.5"
    },
    "orig_nbformat": 4,
    "vscode": {
      "interpreter": {
        "hash": "ed0b163ee664f73952a8ea2efe7bce20175b652073787033c7fec03254067038"
      }
    },
    "colab": {
      "provenance": [],
      "include_colab_link": true
    },
    "accelerator": "GPU",
    "gpuClass": "standard"
  },
  "nbformat": 4,
  "nbformat_minor": 0
}